{
 "cells": [
  {
   "cell_type": "code",
   "execution_count": 39,
   "id": "0418729f",
   "metadata": {},
   "outputs": [],
   "source": [
    "import pandas as pd\n",
    "import numpy as np\n",
    "from feature_selection import FeatureSelection\n",
    "from data_enrichment import DataEnrichment\n",
    "from copy import deepcopy\n",
    "from sklearn.model_selection import train_test_split\n",
    "import pandas as pd\n",
    "import seaborn as sns\n",
    "import matplotlib.pyplot as plt\n",
    "from data_overview import DataOverview"
   ]
  },
  {
   "cell_type": "code",
   "execution_count": 40,
   "id": "51a32d84",
   "metadata": {},
   "outputs": [],
   "source": [
    "de = DataEnrichment()\n",
    "do = DataOverview()"
   ]
  },
  {
   "cell_type": "markdown",
   "id": "8e665090",
   "metadata": {},
   "source": [
    "#### --- Biased data ---\n",
    "##### Over the following lines we will try to target the problem of biased data with resampling techniques. By that we will try to balance the 0,1 labels amounts.\n",
    "##### We going to use the follows process 1) resampel and adding nois 2) split our 1 to groups and shuffel the features between the seperate groups. once the groups will build with respect to time from install to previous_policies and once with a respect to k-means output"
   ]
  },
  {
   "cell_type": "markdown",
   "id": "dce65387",
   "metadata": {},
   "source": [
    "## Train Test split '"
   ]
  },
  {
   "cell_type": "code",
   "execution_count": 41,
   "id": "388e55d7",
   "metadata": {},
   "outputs": [],
   "source": [
    "df = pd.read_csv('./data/df_before_encoding.csv', index_col=[0])\n",
    "train, test  = train_test_split(df, test_size=0.15, random_state=20)"
   ]
  },
  {
   "cell_type": "markdown",
   "id": "c7c22701",
   "metadata": {},
   "source": [
    "# Resampeling and adding noise: \n",
    "##### For continuous features: adding normal noise with mu = 0 and sigma  = feature standard deviation\n",
    "##### For discrete features: adding noise from discrete uniform distribution {-2,...,2}"
   ]
  },
  {
   "cell_type": "code",
   "execution_count": 42,
   "id": "73133925",
   "metadata": {},
   "outputs": [
    {
     "name": "stdout",
     "output_type": "stream",
     "text": [
      "Before resampeling =\n",
      "False    10298\n",
      "True       239\n",
      "Name: label, dtype: int64\n",
      "\n",
      "After resampeling \n",
      "True     10516\n",
      "False    10298\n",
      "Name: label, dtype: int64\n"
     ]
    }
   ],
   "source": [
    "number_of_resamples  = train.shape[0] // train.label.sum() -1\n",
    "train_resampled = de.resample_and_add_noise(df =train,\n",
    "                                            labeled_col_name = 'label',\n",
    "                                            n = number_of_resamples ,\n",
    "                                            resample_on = True)\n",
    "\n",
    "# Saving for \"train and eval\" section\n",
    "train_resampled.to_csv(\"./data/df_resampled.csv\")\n",
    "print(f'Before resampeling =\\n{train.label.value_counts()}')\n",
    "print(f'\\nAfter resampeling \\n{train_resampled.label.value_counts()}')"
   ]
  },
  {
   "cell_type": "markdown",
   "id": "245cf6e8",
   "metadata": {},
   "source": [
    "### Visualization check  -  densities\n",
    "###### for deeper investigation its recomended to use formal test as Kolmogorov-Smirnov test\n"
   ]
  },
  {
   "cell_type": "code",
   "execution_count": 43,
   "id": "35a22bbd",
   "metadata": {},
   "outputs": [
    {
     "name": "stdout",
     "output_type": "stream",
     "text": [
      "<class 'pandas.core.frame.DataFrame'>\n",
      "Index: 12397 entries, -9.16005e+18_2.49201e+18 to -9.03879e+18_-6.86341e+18\n",
      "Data columns (total 15 columns):\n",
      " #   Column                   Non-Null Count  Dtype  \n",
      "---  ------                   --------------  -----  \n",
      " 0   state                    12397 non-null  object \n",
      " 1   product                  12397 non-null  object \n",
      " 2   square_ft                12397 non-null  float64\n",
      " 3   has_fire_alarm           12397 non-null  bool   \n",
      " 4   has_burglar_alarm        12397 non-null  bool   \n",
      " 5   portable_electronics     12397 non-null  bool   \n",
      " 6   coast                    12397 non-null  int64  \n",
      " 7   fire_housing_proximity   12397 non-null  int64  \n",
      " 8   previous_policies        12397 non-null  int64  \n",
      " 9   user_age                 12397 non-null  float64\n",
      " 10  card_type                12396 non-null  object \n",
      " 11  label                    12397 non-null  bool   \n",
      " 12  number_of_na             12397 non-null  int64  \n",
      " 13  grouped_postal_code      12397 non-null  object \n",
      " 14  median_household_income  12396 non-null  float64\n",
      "dtypes: bool(4), float64(3), int64(4), object(4)\n",
      "memory usage: 1.2+ MB\n"
     ]
    }
   ],
   "source": [
    "df.info()"
   ]
  },
  {
   "cell_type": "code",
   "execution_count": 44,
   "id": "6cb2c4b4",
   "metadata": {},
   "outputs": [
    {
     "data": {
      "image/png": "[encoded data removed]",
      "text/plain": [
       "<Figure size 428.75x360 with 1 Axes>"
      ]
     },
     "metadata": {
      "needs_background": "light"
     },
     "output_type": "display_data"
    }
   ],
   "source": [
    "values = train_resampled.median_household_income.tolist() + [i + 0.1 for i in train.median_household_income.tolist()]\n",
    "before_after = ['befor'] *train.shape[0] + ['after'] *train_resampled.shape[0]\n",
    "dt = {'values':values,'before_after':before_after}\n",
    "sns.displot(dt, x=\"values\", hue=\"before_after\", kind=\"kde\")\n",
    "plt.show()"
   ]
  },
  {
   "cell_type": "markdown",
   "id": "03f9f4b7",
   "metadata": {},
   "source": [
    "### --- feature shuffelling --- "
   ]
  },
  {
   "cell_type": "markdown",
   "id": "e238bd4c",
   "metadata": {},
   "source": [
    "##### Now lets try another technique of creating artificial points (here i influenced a littel by \"Genetic algorithms\" process). The way we will create new sampels is by shuffeling features between our label-one group. We do that because we assume that the label-one group is shared something in common.But, before that we will try to find sub level-one groups and shuffle the features within these groups. The way we will grouped our label on to sub-group weill split to two: 1) Logic split (time frames) -- 2) unsupervised split (k-means)\n"
   ]
  },
  {
   "cell_type": "markdown",
   "id": "8ef5225e",
   "metadata": {},
   "source": [
    "### previous_policies\n",
    "\n",
    "##### Lets try to seperate our label one users by above and below number of policies (Assumption - users with same numner of policies has something in common)"
   ]
  },
  {
   "cell_type": "code",
   "execution_count": 45,
   "id": "a397bd19",
   "metadata": {},
   "outputs": [
    {
     "data": {
      "text/html": [
       "<div>\n",
       "<style scoped>\n",
       "    .dataframe tbody tr th:only-of-type {\n",
       "        vertical-align: middle;\n",
       "    }\n",
       "\n",
       "    .dataframe tbody tr th {\n",
       "        vertical-align: top;\n",
       "    }\n",
       "\n",
       "    .dataframe thead th {\n",
       "        text-align: right;\n",
       "    }\n",
       "</style>\n",
       "<table border=\"1\" class=\"dataframe\">\n",
       "  <thead>\n",
       "    <tr style=\"text-align: right;\">\n",
       "      <th></th>\n",
       "      <th>count</th>\n",
       "      <th>%</th>\n",
       "    </tr>\n",
       "  </thead>\n",
       "  <tbody>\n",
       "    <tr>\n",
       "      <th>0</th>\n",
       "      <td>9898</td>\n",
       "      <td>0.798419</td>\n",
       "    </tr>\n",
       "    <tr>\n",
       "      <th>1</th>\n",
       "      <td>2152</td>\n",
       "      <td>0.173590</td>\n",
       "    </tr>\n",
       "    <tr>\n",
       "      <th>2</th>\n",
       "      <td>275</td>\n",
       "      <td>0.022183</td>\n",
       "    </tr>\n",
       "    <tr>\n",
       "      <th>3</th>\n",
       "      <td>48</td>\n",
       "      <td>0.003872</td>\n",
       "    </tr>\n",
       "    <tr>\n",
       "      <th>4</th>\n",
       "      <td>19</td>\n",
       "      <td>0.001533</td>\n",
       "    </tr>\n",
       "    <tr>\n",
       "      <th>5</th>\n",
       "      <td>3</td>\n",
       "      <td>0.000242</td>\n",
       "    </tr>\n",
       "    <tr>\n",
       "      <th>7</th>\n",
       "      <td>1</td>\n",
       "      <td>0.000081</td>\n",
       "    </tr>\n",
       "    <tr>\n",
       "      <th>6</th>\n",
       "      <td>1</td>\n",
       "      <td>0.000081</td>\n",
       "    </tr>\n",
       "  </tbody>\n",
       "</table>\n",
       "</div>"
      ],
      "text/plain": [
       "   count         %\n",
       "0   9898  0.798419\n",
       "1   2152  0.173590\n",
       "2    275  0.022183\n",
       "3     48  0.003872\n",
       "4     19  0.001533\n",
       "5      3  0.000242\n",
       "7      1  0.000081\n",
       "6      1  0.000081"
      ]
     },
     "execution_count": 45,
     "metadata": {},
     "output_type": "execute_result"
    }
   ],
   "source": [
    "do.value_counts_and_percentage(df = df , column = 'previous_policies')"
   ]
  },
  {
   "cell_type": "code",
   "execution_count": 46,
   "id": "34334c2a",
   "metadata": {},
   "outputs": [],
   "source": [
    "# split train for two groups above and equal  0 previous_policies\n",
    "df = pd.read_csv('./data/df_before_encoding.csv', index_col=[0])\n",
    "train, test  = train_test_split(df , test_size=0.15, random_state=20)\n",
    "df_lower = train[(train.previous_policies  == 0) ]\n",
    "df_upper = train[(train.previous_policies > 0 ) ]\n"
   ]
  },
  {
   "cell_type": "markdown",
   "id": "eddaddc9",
   "metadata": {},
   "source": [
    "##### resampeling each of the two groups "
   ]
  },
  {
   "cell_type": "code",
   "execution_count": 47,
   "id": "3d1616a1",
   "metadata": {
    "tags": []
   },
   "outputs": [],
   "source": [
    "number_of_resamples  = df_lower.shape[0] // df_lower.label.sum() -1\n",
    "\n",
    "resampled_df_lower = de.resample_df(df = df_lower[df_lower.label == 1],\n",
    "                       number_of_resamples = number_of_resamples )\n",
    "\n",
    "number_of_resamples  = df_upper.shape[0] // df_upper.label.sum() -1\n",
    "\n",
    "resampled_df_upper = de.resample_df(df = df_upper[df_upper.label == 1],\n",
    "                       number_of_resamples = number_of_resamples)"
   ]
  },
  {
   "cell_type": "markdown",
   "id": "0b313d30",
   "metadata": {},
   "source": [
    "##### Print groups shapes"
   ]
  },
  {
   "cell_type": "code",
   "execution_count": 48,
   "id": "fdfc8b9c",
   "metadata": {},
   "outputs": [
    {
     "name": "stdout",
     "output_type": "stream",
     "text": [
      "(8323, 15) (8427, 15)\n",
      "(2088, 15) (2110, 15)\n",
      "True    8323\n",
      "Name: label, dtype: int64\n",
      "True    2088\n",
      "Name: label, dtype: int64\n"
     ]
    }
   ],
   "source": [
    "\n",
    "print(resampled_df_lower.shape,df_lower.shape)\n",
    "print(resampled_df_upper.shape,df_upper.shape)\n",
    "print(resampled_df_lower.label.value_counts())\n",
    "print(resampled_df_upper.label.value_counts())\n"
   ]
  },
  {
   "cell_type": "markdown",
   "id": "1c3fd86c",
   "metadata": {},
   "source": [
    "##### feature shuffelling "
   ]
  },
  {
   "cell_type": "code",
   "execution_count": 49,
   "id": "8890fea1",
   "metadata": {},
   "outputs": [],
   "source": [
    "shuffled_lower = de.shuffle_features(df = resampled_df_lower,\n",
    "                                     columns_for_shuffeling = resampled_df_lower.columns)\n",
    "\n",
    "shuffled_upper = de.shuffle_features(df = resampled_df_upper,\n",
    "                                     columns_for_shuffeling = resampled_df_upper.columns)"
   ]
  },
  {
   "cell_type": "markdown",
   "id": "2b3157e0",
   "metadata": {},
   "source": [
    "#### Making sure shapes didnt chaneged after shuffeling "
   ]
  },
  {
   "cell_type": "code",
   "execution_count": 50,
   "id": "0f9f8db7",
   "metadata": {
    "tags": []
   },
   "outputs": [
    {
     "data": {
      "text/plain": [
       "(False, False)"
      ]
     },
     "execution_count": 50,
     "metadata": {},
     "output_type": "execute_result"
    }
   ],
   "source": [
    "assert shuffled_lower.shape == resampled_df_lower.shape \n",
    "assert shuffled_upper.shape == resampled_df_upper.shape \n",
    "shuffled_lower.equals(resampled_df_lower) , shuffled_upper.equals(resampled_df_upper)"
   ]
  },
  {
   "cell_type": "markdown",
   "id": "08b7cc9f",
   "metadata": {},
   "source": [
    "#### Save shuffled data frames "
   ]
  },
  {
   "cell_type": "code",
   "execution_count": 51,
   "id": "f46f294e",
   "metadata": {},
   "outputs": [
    {
     "data": {
      "text/plain": [
       "True     10411\n",
       "False    10298\n",
       "Name: label, dtype: int64"
      ]
     },
     "execution_count": 51,
     "metadata": {},
     "output_type": "execute_result"
    }
   ],
   "source": [
    "train_resampled_time_window_shuffled = pd.concat([shuffled_upper,shuffled_lower,train[train.label == 0 ]])\n",
    "train_resampled_time_window_shuffled.to_csv('./data/train_resampled_previous_policies.csv')\n",
    "train_resampled_time_window_shuffled.label.value_counts()"
   ]
  },
  {
   "cell_type": "markdown",
   "id": "7ef74ae1",
   "metadata": {},
   "source": [
    "### Feature shuffelling - k-means"
   ]
  },
  {
   "cell_type": "markdown",
   "id": "42f2b832",
   "metadata": {},
   "source": [
    "#### Above we split our label-one group into two groups cause we believed that users with label-1 and same number policies have something in common.\n",
    "#### Now, with no past assumptions, let's gives k-means algorithm decide and pick the groups for use.\n",
    "#### Then, after the help of the k-means, we will shuffle the features of the label-1 users between the separate k-means groups."
   ]
  },
  {
   "cell_type": "code",
   "execution_count": 52,
   "id": "329732be",
   "metadata": {},
   "outputs": [],
   "source": [
    "df_before_encoding = pd.read_csv('./data/df_before_encoding.csv', index_col=[0])\n",
    "train, test  = train_test_split(df_before_encoding , test_size=0.15, random_state=20)\n"
   ]
  },
  {
   "cell_type": "markdown",
   "id": "423d81be",
   "metadata": {},
   "source": [
    "###### Isolating the label-1 group"
   ]
  },
  {
   "cell_type": "code",
   "execution_count": 53,
   "id": "d5d341bf",
   "metadata": {},
   "outputs": [],
   "source": [
    "df_tigered = train[train.label == 1 ]\n"
   ]
  },
  {
   "cell_type": "markdown",
   "id": "c5ca5e22",
   "metadata": {},
   "source": [
    "###### Running K-means in order in order to create 3 groups"
   ]
  },
  {
   "cell_type": "code",
   "execution_count": 54,
   "id": "9f6a2867",
   "metadata": {},
   "outputs": [
    {
     "data": {
      "text/plain": [
       "0    91\n",
       "1    78\n",
       "2    70\n",
       "Name: k_m_label, dtype: int64"
      ]
     },
     "execution_count": 54,
     "metadata": {},
     "output_type": "execute_result"
    }
   ],
   "source": [
    "df_tigered = de.clustering_with_Kmeans(data = df_tigered, cols_to_ignore = [],k_clusters=3)\n",
    "df_tigered.k_m_label.value_counts()"
   ]
  },
  {
   "cell_type": "markdown",
   "id": "7315e5ed",
   "metadata": {},
   "source": [
    "###### Split the new groups into 3 dataframes"
   ]
  },
  {
   "cell_type": "code",
   "execution_count": 55,
   "id": "bca8bc4b",
   "metadata": {},
   "outputs": [],
   "source": [
    "df_zero = df_tigered[df_tigered.k_m_label == 0 ].drop(columns = 'k_m_label')\n",
    "df_one  = df_tigered[df_tigered.k_m_label == 1 ].drop(columns = 'k_m_label')\n",
    "df_two  = df_tigered[df_tigered.k_m_label == 2 ].drop(columns = 'k_m_label')"
   ]
  },
  {
   "cell_type": "markdown",
   "id": "5d8b0c3f",
   "metadata": {},
   "source": [
    "###### Resample each dataframe\n"
   ]
  },
  {
   "cell_type": "code",
   "execution_count": 56,
   "id": "5d97e35d",
   "metadata": {},
   "outputs": [],
   "source": [
    "number_of_resamples  = train.shape[0] // train.label.sum() -1\n",
    "\n",
    "resampled_df_zero = de.resample_df(df = df_zero,\n",
    "                       number_of_resamples = number_of_resamples )\n",
    "resampled_df_one = de.resample_df(df = df_one,\n",
    "                      number_of_resamples = number_of_resamples)\n",
    "resampled_df_two = de.resample_df(df = df_two,\n",
    "                       number_of_resamples = number_of_resamples)"
   ]
  },
  {
   "cell_type": "code",
   "execution_count": 57,
   "id": "8d007cef",
   "metadata": {
    "tags": []
   },
   "outputs": [
    {
     "name": "stdout",
     "output_type": "stream",
     "text": [
      "(4004, 15) (91, 15)\n",
      "(3432, 15) (78, 15)\n",
      "(3080, 15) (70, 15)\n"
     ]
    }
   ],
   "source": [
    "print(resampled_df_zero.shape,df_zero.shape)\n",
    "print(resampled_df_one.shape,df_one.shape)\n",
    "print(resampled_df_two.shape,df_two.shape)"
   ]
  },
  {
   "cell_type": "markdown",
   "id": "46fa0bb7",
   "metadata": {},
   "source": [
    "###### Shuffel feature in each dataframe\n"
   ]
  },
  {
   "cell_type": "code",
   "execution_count": 58,
   "id": "02b776cf",
   "metadata": {},
   "outputs": [],
   "source": [
    "shuffled_zero = de.shuffle_features(df = resampled_df_zero,\n",
    "                                  columns_for_shuffeling = resampled_df_zero.columns)\n",
    "\n",
    "shuffled_one = de.shuffle_features(df = resampled_df_one,\n",
    "                                  columns_for_shuffeling = resampled_df_one.columns)\n",
    "\n",
    "shuffled_two = de.shuffle_features(df = resampled_df_two,\n",
    "                                  columns_for_shuffeling = resampled_df_two.columns)"
   ]
  },
  {
   "cell_type": "code",
   "execution_count": 59,
   "id": "9e5ac243",
   "metadata": {
    "tags": []
   },
   "outputs": [
    {
     "data": {
      "text/plain": [
       "(False, False, False)"
      ]
     },
     "execution_count": 59,
     "metadata": {},
     "output_type": "execute_result"
    }
   ],
   "source": [
    "assert shuffled_zero.shape == resampled_df_zero.shape \n",
    "assert shuffled_one.shape == resampled_df_one.shape \n",
    "assert shuffled_two.shape == resampled_df_two.shape \n",
    "\n",
    "resampled_df_zero.equals(shuffled_zero) ,resampled_df_one.equals(shuffled_one) , resampled_df_two.equals(shuffled_two)"
   ]
  },
  {
   "cell_type": "markdown",
   "id": "96a2a0c3",
   "metadata": {},
   "source": [
    "#### Concatenate back and save to csv"
   ]
  },
  {
   "cell_type": "code",
   "execution_count": 60,
   "id": "e8018248",
   "metadata": {},
   "outputs": [
    {
     "data": {
      "text/plain": [
       "1    10516\n",
       "0    10298\n",
       "Name: label, dtype: int64"
      ]
     },
     "execution_count": 60,
     "metadata": {},
     "output_type": "execute_result"
    }
   ],
   "source": [
    "train_resampled_k_means_shuffled = pd.concat([shuffled_zero,shuffled_one,shuffled_two,train[train.label == 0 ]])\n",
    "train_resampled_k_means_shuffled.to_csv('./data/train_resampled_k_means_shuffled.csv')\n",
    "train_resampled_k_means_shuffled.label.value_counts()"
   ]
  },
  {
   "cell_type": "code",
   "execution_count": null,
   "id": "2f626b7c",
   "metadata": {},
   "outputs": [],
   "source": []
  }
 ],
 "metadata": {
  "kernelspec": {
   "display_name": "Python 3",
   "language": "python",
   "name": "python3"
  },
  "language_info": {
   "codemirror_mode": {
    "name": "ipython",
    "version": 3
   },
   "file_extension": ".py",
   "mimetype": "text/x-python",
   "name": "python",
   "nbconvert_exporter": "python",
   "pygments_lexer": "ipython3",
   "version": "3.7.3"
  }
 },
 "nbformat": 4,
 "nbformat_minor": 5
}
