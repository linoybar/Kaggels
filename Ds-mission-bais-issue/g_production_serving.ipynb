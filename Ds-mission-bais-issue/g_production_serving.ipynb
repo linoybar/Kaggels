{
 "cells": [
  {
   "cell_type": "code",
   "execution_count": 30,
   "id": "05cac933",
   "metadata": {},
   "outputs": [],
   "source": [
    "import joblib\n",
    "import pickle\n",
    "import json\n",
    "import pandas as pd \n",
    "import numpy as np\n",
    "from production_training import ProductionTraining\n",
    "import re\n",
    "import inspect\n",
    "\n",
    "pt = ProductionTraining()"
   ]
  },
  {
   "cell_type": "markdown",
   "id": "a5b44151",
   "metadata": {},
   "source": [
    "### Read configs"
   ]
  },
  {
   "cell_type": "code",
   "execution_count": 31,
   "id": "7cec80e0",
   "metadata": {},
   "outputs": [],
   "source": [
    "config_path = './production/configurations/production_configuration.txt'\n",
    "configs = pt.read_json_to_class(config_path)"
   ]
  },
  {
   "cell_type": "markdown",
   "id": "cad9258b",
   "metadata": {},
   "source": [
    "### Load model"
   ]
  },
  {
   "cell_type": "code",
   "execution_count": 32,
   "id": "505c2ded",
   "metadata": {},
   "outputs": [
    {
     "data": {
      "text/plain": [
       "'./production/grid_search_models/gread_search_2021-04-24.pkl'"
      ]
     },
     "execution_count": 32,
     "metadata": {},
     "output_type": "execute_result"
    }
   ],
   "source": [
    "configs.grid_search.last_model_path"
   ]
  },
  {
   "cell_type": "code",
   "execution_count": 33,
   "id": "bb0d0ef2",
   "metadata": {},
   "outputs": [],
   "source": [
    "model=joblib.load(configs.grid_search.last_model_path)"
   ]
  },
  {
   "cell_type": "markdown",
   "id": "08117a0a",
   "metadata": {},
   "source": [
    "### Load samples"
   ]
  },
  {
   "cell_type": "code",
   "execution_count": 34,
   "id": "b072a057",
   "metadata": {},
   "outputs": [
    {
     "name": "stdout",
     "output_type": "stream",
     "text": [
      "Request id -9.11278e+18_-2.86173e+17 for example:\n",
      "\n",
      "{'state': 'TX', 'product': 'ho4', 'square_ft': 1099.0, 'has_fire_alarm': False, 'has_burglar_alarm': False, 'portable_electronics': False, 'coast': 4, 'fire_housing_proximity': 3, 'previous_policies': 1, 'user_age': 34.0, 'card_type': 'debit', 'number_of_na': 2, 'grouped_postal_code': 'generall_postal_code', 'median_household_income': 35449.0}\n"
     ]
    }
   ],
   "source": [
    "path =configs.sanity.sanity_check_path\n",
    "with open(path, 'r') as outfile:\n",
    "    samples = json.load(outfile)\n",
    "\n",
    "request_id = list(samples.keys())[0]\n",
    "print(f\"Request id {request_id} for example:\\n\\n{samples[request_id]}\")"
   ]
  },
  {
   "cell_type": "markdown",
   "id": "9b53f1df",
   "metadata": {},
   "source": [
    "### Transform data"
   ]
  },
  {
   "cell_type": "markdown",
   "id": "8b0a1276",
   "metadata": {},
   "source": [
    "###### In a real production system this section should be much bigger. \n",
    "###### Each logic which applied over the research section should be applied here also, before generating prediction, for example:\n",
    "######   - Bucketing/mapping values \n",
    "######   - 'None' counter - (one of our features)\n",
    "######   - Convert values from str to numeric and back\n",
    "######   - etc'\n",
    "###### Here, the data we predict on, is already transformed...\n",
    "###### But in order to make the point let's build and apply one transformer: remove characters - for \"fire housing proximity\" feature"
   ]
  },
  {
   "cell_type": "markdown",
   "id": "df0b2f55",
   "metadata": {},
   "source": [
    "#### Function logic "
   ]
  },
  {
   "cell_type": "code",
   "execution_count": 35,
   "id": "9ce85c96",
   "metadata": {},
   "outputs": [
    {
     "name": "stdout",
     "output_type": "stream",
     "text": [
      "    @staticmethod\n",
      "    def remove_characters(feature_value: str):\n",
      "        '''\n",
      "        The following function clean characters from strings\n",
      "        :param feature_value: str\n",
      "        :return: int\n",
      "\n",
      "        example :remove_characters(feature_value ='8x') --> 8\n",
      "        '''\n",
      "        if isinstance(feature_value, str):\n",
      "            value = int(re.search(r'\\d+', feature_value).group())\n",
      "            return value\n",
      "        if isinstance(feature_value, int):\n",
      "            return feature_value\n",
      "\n"
     ]
    }
   ],
   "source": [
    "lines = inspect.getsource(pt.remove_characters)\n",
    "print(lines)"
   ]
  },
  {
   "cell_type": "code",
   "execution_count": 36,
   "id": "83c8ec73",
   "metadata": {},
   "outputs": [],
   "source": [
    "feature = 'fire_housing_proximity'\n",
    "for k in samples.keys():\n",
    "    samples[k][feature] = pt.remove_characters(feature_value = samples[k][feature])"
   ]
  },
  {
   "cell_type": "markdown",
   "id": "c59775b6",
   "metadata": {},
   "source": [
    "### Get prediction per sample-id\n",
    "\n",
    "###### There is mant \"True\" cause i sampled from the resampled data set:]"
   ]
  },
  {
   "cell_type": "code",
   "execution_count": 37,
   "id": "1a8f259d",
   "metadata": {},
   "outputs": [
    {
     "name": "stdout",
     "output_type": "stream",
     "text": [
      "id -9.11278e+18_-2.86173e+17, predict = False\n",
      "id -9.02622e+18_1.45668e+18, predict = True\n",
      "id -9.17817e+18_-6.39372e+18, predict = True\n",
      "id -9.12043e+18_-5.90665e+18, predict = False\n",
      "id -8.85995e+18_7.46945e+18, predict = True\n"
     ]
    }
   ],
   "source": [
    "for k,v in samples.items():\n",
    "    array = pd.DataFrame([v]) *1 \n",
    "    p = model.predict(array)\n",
    "    print(f\"id {k}, predict = {p[0]}\")"
   ]
  },
  {
   "cell_type": "code",
   "execution_count": null,
   "id": "35a887d6",
   "metadata": {},
   "outputs": [],
   "source": []
  },
  {
   "cell_type": "code",
   "execution_count": null,
   "id": "94ace9f0",
   "metadata": {},
   "outputs": [],
   "source": []
  }
 ],
 "metadata": {
  "kernelspec": {
   "display_name": "Python 3",
   "language": "python",
   "name": "python3"
  },
  "language_info": {
   "codemirror_mode": {
    "name": "ipython",
    "version": 3
   },
   "file_extension": ".py",
   "mimetype": "text/x-python",
   "name": "python",
   "nbconvert_exporter": "python",
   "pygments_lexer": "ipython3",
   "version": "3.7.3"
  }
 },
 "nbformat": 4,
 "nbformat_minor": 5
}
